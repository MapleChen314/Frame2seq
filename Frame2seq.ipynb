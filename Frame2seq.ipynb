{
 "cells": [
  {
   "cell_type": "markdown",
   "metadata": {},
   "source": [
    "##Frame2seq: structure-conditioned masked language modeling for protein sequence design\n",
    "\n",
    "Official notebook for [Frame2seq](https://doi.org/10.1101/2023.12.15.571823): Structure-conditioned masked language models for protein sequence design generalize beyond the native sequence space."
   ]
  },
  {
   "cell_type": "code",
   "execution_count": null,
   "metadata": {},
   "outputs": [],
   "source": [
    "#@title Install dependencies\n",
    "%%capture\n",
    "!pip install frame2seq\n",
    "\n",
    "import os\n",
    "from google.colab import files\n",
    "\n",
    "\n",
    "def get_pdb(pdb_code=\"\"):\n",
    "# code credit: https://github.com/sokrypton/ColabDesign notebooks\n",
    "  if pdb_code is None or pdb_code == \"\":\n",
    "    upload_dict = files.upload()\n",
    "    pdb_string = upload_dict[list(upload_dict.keys())[0]]\n",
    "    with open(\"tmp.pdb\",\"wb\") as out: out.write(pdb_string)\n",
    "    return \"tmp.pdb\"\n",
    "  elif os.path.isfile(pdb_code):\n",
    "    return pdb_code\n",
    "  elif len(pdb_code) == 4:\n",
    "    os.system(f\"wget -qnc https://files.rcsb.org/view/{pdb_code}.pdb\")\n",
    "    return f\"{pdb_code}.pdb\"\n",
    "  else:\n",
    "    os.system(f\"wget -qnc https://alphafold.ebi.ac.uk/files/AF-{pdb_code}-F1-model_v3.pdb\")\n",
    "    return f\"AF-{pdb_code}-F1-model_v3.pdb\""
   ]
  },
  {
   "cell_type": "code",
   "execution_count": null,
   "metadata": {},
   "outputs": [],
   "source": [
    "#@title Frame2seq Runner\n",
    "%%capture\n",
    "from frame2seq import Frame2seqRunner\n",
    "\n",
    "\n",
    "runner = Frame2seqRunner()"
   ]
  },
  {
   "cell_type": "code",
   "execution_count": null,
   "metadata": {},
   "outputs": [],
   "source": [
    "#@title Design sequences with Frame2seq (sampled sequences are saved to .fasta files)\n",
    "\n",
    "import warnings\n",
    "warnings.simplefilter(action='ignore', category=FutureWarning)\n",
    "\n",
    "\n",
    "# USER OPTIONS\n",
    "#@markdown #### Input options for fixed-backbone design\n",
    "pdb='2FRA' #@param {type:\"string\"}\n",
    "#@markdown - leave blank to get an upload prompt\n",
    "chain_id = \"A\" #@param {type:\"string\"}\n",
    "temperature = 1.0 #@param {type:\"raw\"}\n",
    "num_samples = 10 #@param {type:\"raw\"}\n",
    "save_neg_pll = True #@param {type:\"boolean\"}\n",
    "#@markdown - saves per-position negative pseudo-log-likelihoods to csv\n",
    "verbose = True #@param {type:\"boolean\"}\n",
    "\n",
    "pdb_path = get_pdb(pdb)\n",
    "\n",
    "# run Frame2seq\n",
    "runner.design(pdb_path, chain_id, temperature, num_samples, save_neg_pll, verbose)"
   ]
  }
 ],
 "metadata": {
  "language_info": {
   "name": "python"
  }
 },
 "nbformat": 4,
 "nbformat_minor": 2
}
